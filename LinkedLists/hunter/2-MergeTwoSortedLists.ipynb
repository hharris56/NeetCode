{
 "cells": [
  {
   "attachments": {},
   "cell_type": "markdown",
   "metadata": {},
   "source": [
    "### Problem 2: Merge Two Sorted List | [link](https://leetcode.com/problems/merge-two-sorted-lists/description/)\n",
    "\n",
    "You are given the heads of two sorted linked lists list1 and list2.\n",
    "\n",
    "Merge the two lists into one sorted list. The list should be made by splicing together the nodes of the first two lists.\n",
    "\n",
    "Return the head of the merged linked list.\n",
    "\n",
    "Examples\n",
    "```python\n",
    "Input: list1 = [1,2,4], list2 = [1,3,4]\n",
    "Output: [1,1,2,3,4,4]\n",
    "\n",
    "Input: list1 = [], list2 = []\n",
    "Output: []\n",
    "\n",
    "Input: list1 = [], list2 = [0]\n",
    "Output: [0]\n",
    "```\n",
    "\n",
    "Constraints:\n",
    "```python\n",
    "The number of nodes in both lists is in the range [0, 50].\n",
    "-100 <= Node.val <= 100\n",
    "Both list1 and list2 are sorted in non-decreasing order.\n",
    "```"
   ]
  },
  {
   "attachments": {},
   "cell_type": "markdown",
   "metadata": {},
   "source": [
    "### Solution"
   ]
  },
  {
   "cell_type": "code",
   "execution_count": 10,
   "metadata": {},
   "outputs": [],
   "source": [
    "def mergeTwoNormalLists(list1, list2):\n",
    "    result = []\n",
    "    while (len(list1) + len(list2)) > 0:\n",
    "        # ending cases\n",
    "        if len(list1) == 0:\n",
    "            result += list2\n",
    "            return result\n",
    "        if len(list2) == 0:\n",
    "            result += list1\n",
    "            return result\n",
    "        # sorting\n",
    "        if list1[0] > list2[0]:\n",
    "            result.append(list2.pop(0))\n",
    "        else:\n",
    "            result.append(list1.pop(0))\n",
    "    # empty array case\n",
    "    return result"
   ]
  },
  {
   "attachments": {},
   "cell_type": "markdown",
   "metadata": {},
   "source": [
    "### Solution 2: Didn't realize they defined a ListNode type"
   ]
  },
  {
   "cell_type": "code",
   "execution_count": 11,
   "metadata": {},
   "outputs": [],
   "source": [
    "class ListNode(object):\n",
    "    def __init__(self, x):\n",
    "        self.val = x\n",
    "        self.next = None\n",
    "\n",
    "def mergeTwoLists(list1, list2):\n",
    "    # base case\n",
    "    if (list1 == None): return list2\n",
    "    if (list2 == None): return list1\n",
    "    # sorting\n",
    "    if (list1.val < list2.val):\n",
    "        # return ListNode(list1.val, mergeTwoLists(list1.next, list2))\n",
    "        list1.next = mergeTwoLists(list1.next, list2)\n",
    "        return list1\n",
    "    else:\n",
    "        # return ListNode(list2.val, mergeTwoLists(list1, list2.next))\n",
    "        list2.next = mergeTwoLists(list1, list2.next)\n",
    "        return list2"
   ]
  },
  {
   "attachments": {},
   "cell_type": "markdown",
   "metadata": {},
   "source": [
    "#### Solution 3: A non-recursive version"
   ]
  },
  {
   "cell_type": "code",
   "execution_count": 12,
   "metadata": {},
   "outputs": [],
   "source": [
    "def mergeTwoListsWhile(list1, list2):\n",
    "    # define pointers\n",
    "    result = ListNode(None, None)\n",
    "    ptr1 = list1\n",
    "    ptr2 = list2\n",
    "    ptr3 = result\n",
    "    # until one of the lists is none\n",
    "    while (ptr1 is not None) and (ptr2 is not None):\n",
    "        # sorting\n",
    "        if (ptr1.val < ptr2.val):\n",
    "            ptr3.next = ptr1\n",
    "            ptr1 = ptr1.next\n",
    "        else:\n",
    "            ptr3.next = ptr2\n",
    "            ptr2 = ptr2.next\n",
    "        # increment result pointer\n",
    "        ptr3 = ptr3.next\n",
    "    # ensure the remaining values are added\n",
    "    if ptr1 is not None:\n",
    "        ptr3.next = ptr1\n",
    "    else:\n",
    "        ptr3.next = ptr2\n",
    "    # first node is empty, return the next\n",
    "    return result.next"
   ]
  },
  {
   "attachments": {},
   "cell_type": "markdown",
   "metadata": {},
   "source": [
    "### Testing"
   ]
  },
  {
   "cell_type": "code",
   "execution_count": 13,
   "metadata": {},
   "outputs": [],
   "source": [
    "if __name__ == \"__main__\":\n",
    "    assert mergeTwoNormalLists([1,2,4], [1,3,4]) == [1,1,2,3,4,4]\n",
    "    assert mergeTwoNormalLists([], []) == []\n",
    "    assert mergeTwoNormalLists([], [0]) == [0]\n",
    "    # assert mergeTwoLists(ListNode(1,ListNode(2,ListNode(3, None))), ListNode(1, ListNode(3, ListNode(4, None)))) == ListNode(1, ListNode(1, ListNode(2, ListNode(3, ListNode(4, ListNode(4, None))))))"
   ]
  },
  {
   "attachments": {},
   "cell_type": "markdown",
   "metadata": {},
   "source": [
    "### Complexity\n",
    "* Time Complexity is O(nk) bc the algorithm will have to iterate over each node of both lists\n",
    "* Space Complexity is O(1) since the algorithm operates in place and does not create a separate data structure"
   ]
  },
  {
   "attachments": {},
   "cell_type": "markdown",
   "metadata": {},
   "source": [
    "### Resources Used\n",
    "[Example Resource](link-to-webpage)"
   ]
  }
 ],
 "metadata": {
  "kernelspec": {
   "display_name": "Python 3",
   "language": "python",
   "name": "python3"
  },
  "language_info": {
   "codemirror_mode": {
    "name": "ipython",
    "version": 3
   },
   "file_extension": ".py",
   "mimetype": "text/x-python",
   "name": "python",
   "nbconvert_exporter": "python",
   "pygments_lexer": "ipython3",
   "version": "3.12.0"
  },
  "orig_nbformat": 4
 },
 "nbformat": 4,
 "nbformat_minor": 2
}
