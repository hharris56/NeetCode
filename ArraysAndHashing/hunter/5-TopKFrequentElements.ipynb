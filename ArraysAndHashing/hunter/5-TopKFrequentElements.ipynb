{
 "cells": [
  {
   "attachments": {},
   "cell_type": "markdown",
   "metadata": {},
   "source": [
    "### Problem 5: Top K Frequent Elements | [link](https://leetcode.com/problems/top-k-frequent-elements/description/)\n",
    "\n",
    "Given an integer array `nums` and an integer `k`, return the `k` most frequent elements. You may return the answer in any order.\n",
    "\n",
    "Examples\n",
    "```python\n",
    "Input: nums = [1,1,1,2,2,3], k = 2\n",
    "Output: [1,2]\n",
    "\n",
    "Input: nums = [1], k = 1\n",
    "Output: [1]\n",
    "```\n",
    "\n",
    "Constraints:\n",
    "```python\n",
    "1 <= nums.length <= 10^5\n",
    "-10^4 <= nums[i] <= 10^4\n",
    "k is in the range [1, the number of unique elements in the array].\n",
    "It is guaranteed that the answer is unique.\n",
    "```"
   ]
  },
  {
   "attachments": {},
   "cell_type": "markdown",
   "metadata": {},
   "source": [
    "### Solution"
   ]
  },
  {
   "cell_type": "code",
   "execution_count": 26,
   "metadata": {},
   "outputs": [],
   "source": [
    "def topKFrequent(nums, k):\n",
    "    dict = {}\n",
    "    # count frequency of numbers using dict\n",
    "    for n in nums:\n",
    "        if dict.get(n) == None:\n",
    "            dict[n] = 1\n",
    "        else:\n",
    "            dict[n] += 1\n",
    "    # turn dict into (key, value) pairs, order by frequency\n",
    "    l = list(dict.items())\n",
    "    l.sort(key = lambda x: x[1], reverse=True)\n",
    "    # return top k elements\n",
    "    solution = []\n",
    "    for i in range(k):\n",
    "        tup = l[i][0]\n",
    "        solution.append(tup)\n",
    "    return solution"
   ]
  },
  {
   "attachments": {},
   "cell_type": "markdown",
   "metadata": {},
   "source": [
    "### Complexity\n",
    "Time Complexity will be O(n*k); n is the number of elements in nums, k is dependent on variable k and the spread of values in nums\n",
    "Space Complexity will be O(n*k); n is the number of elements in nums, k is dependent on variable k and the spread of values in nums"
   ]
  },
  {
   "cell_type": "code",
   "execution_count": 27,
   "metadata": {},
   "outputs": [],
   "source": [
    "if __name__ == \"__main__\":\n",
    "    assert topKFrequent([7,6,1,1,1,2,2,3], 2) == [1,2]"
   ]
  },
  {
   "attachments": {},
   "cell_type": "markdown",
   "metadata": {},
   "source": [
    "### Resources Used\n",
    "[Sorting Lambda](https://www.geeksforgeeks.org/python-sort-list-according-second-element-sublist/)"
   ]
  }
 ],
 "metadata": {
  "kernelspec": {
   "display_name": "Python 3",
   "language": "python",
   "name": "python3"
  },
  "language_info": {
   "codemirror_mode": {
    "name": "ipython",
    "version": 3
   },
   "file_extension": ".py",
   "mimetype": "text/x-python",
   "name": "python",
   "nbconvert_exporter": "python",
   "pygments_lexer": "ipython3",
   "version": "3.12.0"
  },
  "orig_nbformat": 4
 },
 "nbformat": 4,
 "nbformat_minor": 2
}
