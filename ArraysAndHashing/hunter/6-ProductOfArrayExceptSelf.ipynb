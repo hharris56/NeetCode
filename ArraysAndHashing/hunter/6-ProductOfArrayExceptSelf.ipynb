{
 "cells": [
  {
   "attachments": {},
   "cell_type": "markdown",
   "metadata": {},
   "source": [
    "### Problem 6: Product of Array Except Self | [link](https://leetcode.com/problems/product-of-array-except-self/description/)\n",
    "\n",
    "Given an integer array `nums`, return an array `answer` such that `answer[i]` is equal to the product of all the elements of `nums` except `nums[i]`.\n",
    "\n",
    "The product of any prefix or suffix of `nums` is guaranteed to fit in a 32-bit integer.\n",
    "\n",
    "You must write an algorithm that runs in O(n) time and without using the division operation.\n",
    "\n",
    "Examples\n",
    "```python\n",
    "Input: nums = [1,2,3,4]\n",
    "Output: [24,12,8,6]\n",
    "\n",
    "Input: nums = [-1,1,0,-3,3]\n",
    "Output: [0,0,9,0,0]\n",
    "```\n",
    "\n",
    "Constraints:\n",
    "```python\n",
    "2 <= nums.length <= 105\n",
    "-30 <= nums[i] <= 30\n",
    "The product of any prefix or suffix of nums is guaranteed to fit in a 32-bit integer.\n",
    "```"
   ]
  },
  {
   "attachments": {},
   "cell_type": "markdown",
   "metadata": {},
   "source": [
    "### Unaccepted Solution (Slices)"
   ]
  },
  {
   "cell_type": "code",
   "execution_count": 5,
   "metadata": {},
   "outputs": [],
   "source": [
    "from functools import reduce\n",
    "\n",
    "def productExceptSelf(nums):\n",
    "    # slices method\n",
    "    solution = []\n",
    "    for i in range(len(nums)):\n",
    "        a = reduce(lambda x,y: x*y, nums[0:i], 1)\n",
    "        b = reduce(lambda x,y: x*y, nums[i+1:], 1)\n",
    "        solution.append(a*b)\n",
    "    return solution"
   ]
  },
  {
   "attachments": {},
   "cell_type": "markdown",
   "metadata": {},
   "source": [
    "### Solution 2 (Left + Right Arrays)"
   ]
  },
  {
   "cell_type": "code",
   "execution_count": 11,
   "metadata": {},
   "outputs": [],
   "source": [
    "def productExceptSelf(nums):\n",
    "    # calculate all multiples to the left of any given number\n",
    "    left = [1] * len(nums)\n",
    "    for i in range(1, len(nums)): # start at second index\n",
    "        left[i] = (nums[i-1] * left[i-1])\n",
    "    # calculate all multiples to the right of any given number\n",
    "    right = [1] * len(nums)\n",
    "    for j in reversed(range(len(nums) - 1)): # start at 'second' index of reverse array\n",
    "        right[j] = (nums[j+1] * right[j+1])\n",
    "    # multiply the left and right sides\n",
    "    solution = []\n",
    "    for k in range(len(nums)):\n",
    "        solution.append(left[k] * right[k])\n",
    "    return solution\n"
   ]
  },
  {
   "attachments": {},
   "cell_type": "markdown",
   "metadata": {},
   "source": [
    "### Solution 3 (in place)"
   ]
  },
  {
   "cell_type": "code",
   "execution_count": 25,
   "metadata": {},
   "outputs": [],
   "source": [
    "# this answer is heavily referencing (if not copying) an answer explained on leetcode\n",
    "# ... i tried stopping the video and guessing next steps, was able to figure out the rightward loop\n",
    "def productExceptSelf(nums):\n",
    "    length = len(nums)\n",
    "    solution = [1] * length\n",
    "    # calculate the left array as normal\n",
    "    for i in range(1, length):\n",
    "        solution[i] = nums[i-1] * solution[i-1]\n",
    "    # right will be a single number, start with right most value in nums\n",
    "    right = nums[length-1]\n",
    "    for j in reversed(range(length-1)):\n",
    "        solution[j] *= right\n",
    "        right *= nums[j]\n",
    "    return solution"
   ]
  },
  {
   "attachments": {},
   "cell_type": "markdown",
   "metadata": {},
   "source": [
    "### Testing"
   ]
  },
  {
   "cell_type": "code",
   "execution_count": 26,
   "metadata": {},
   "outputs": [],
   "source": [
    "if __name__ == \"__main__\":\n",
    "    assert productExceptSelf([1,2,3,4]) == [24,12,8,6]\n",
    "    assert productExceptSelf([-1,1,0,-3,3]) == [0,0,9,0,0]"
   ]
  },
  {
   "attachments": {},
   "cell_type": "markdown",
   "metadata": {},
   "source": [
    "### Complexity\n",
    "* Time Complexity is O(n*k); n is number of elements in array, k is time to multiply values / iterate\n",
    "* Space Complexity is O(n*k); ^^, k is the size of an integer (times 2 for the dual array method)\n",
    "* Space Complexity is O(1) when using solution 3 as no 'additional' data structures are created (not including return array) "
   ]
  },
  {
   "attachments": {},
   "cell_type": "markdown",
   "metadata": {},
   "source": [
    "### Resources Used\n",
    "[Reducer for list multiplication](https://www.geeksforgeeks.org/python-multiply-numbers-list-3-different-ways/)\n",
    "[More reducer](https://www.geeksforgeeks.org/reduce-in-python/)\n",
    "[Problem breakdown](https://www.youtube.com/watch?v=5bS636lE_R0&t=39s)"
   ]
  }
 ],
 "metadata": {
  "kernelspec": {
   "display_name": "Python 3",
   "language": "python",
   "name": "python3"
  },
  "language_info": {
   "codemirror_mode": {
    "name": "ipython",
    "version": 3
   },
   "file_extension": ".py",
   "mimetype": "text/x-python",
   "name": "python",
   "nbconvert_exporter": "python",
   "pygments_lexer": "ipython3",
   "version": "3.12.0"
  },
  "orig_nbformat": 4
 },
 "nbformat": 4,
 "nbformat_minor": 2
}
