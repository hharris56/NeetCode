{
 "cells": [
  {
   "attachments": {},
   "cell_type": "markdown",
   "metadata": {},
   "source": [
    "### Problem 2: Valid Anagram | [link](https://leetcode.com/problems/valid-anagram/description/)\n",
    "\n",
    "Given two strings `s` and `t`, return `true` if `t` is an anagram of `s`, and `false` otherwise.\n",
    "\n",
    "An Anagram is a word or phrase formed by rearranging the letters of a different word or phrase, typically using all the original letters exactly once.\n",
    "\n",
    "Examples\n",
    "```python\n",
    "Input: s = \"anagram\", t = \"nagaram\"\n",
    "Output: true\n",
    "\n",
    "Input: s = \"rat\", t = \"car\"\n",
    "Output: false\n",
    "```\n",
    "\n",
    "Constraints:\n",
    "```python\n",
    "1 <= s.length, t.length <= 5 * 104\n",
    "s and t consist of lowercase English letters.\n",
    "```"
   ]
  },
  {
   "attachments": {},
   "cell_type": "markdown",
   "metadata": {},
   "source": [
    "### Solution"
   ]
  },
  {
   "cell_type": "code",
   "execution_count": 5,
   "metadata": {},
   "outputs": [],
   "source": [
    "def validAnagram(s, t):\n",
    "    dict = {}\n",
    "    # build dictionary of letters in s\n",
    "    for letter in s:\n",
    "        if dict.get(letter):\n",
    "            dict[letter] += 1\n",
    "        else:\n",
    "            dict[letter] = 1\n",
    "    # decretment for each letter in t, if letter not found return false\n",
    "    for letter in t:\n",
    "        if dict.get(letter):\n",
    "            if dict[letter] < 1:\n",
    "                return False\n",
    "            dict[letter] -= 1\n",
    "        else:\n",
    "            return False\n",
    "    # if any letters are left 'unused' return false\n",
    "    if sum(dict.values()) != 0:\n",
    "        return False\n",
    "    \n",
    "    return True"
   ]
  },
  {
   "attachments": {},
   "cell_type": "markdown",
   "metadata": {},
   "source": [
    "### Testing"
   ]
  },
  {
   "cell_type": "code",
   "execution_count": 6,
   "metadata": {},
   "outputs": [],
   "source": [
    "if __name__ == \"__main__\":\n",
    "    assert validAnagram(\"anagram\", \"nagaram\") == True\n",
    "    assert validAnagram(\"rat\", \"car\") == False"
   ]
  },
  {
   "attachments": {},
   "cell_type": "markdown",
   "metadata": {},
   "source": [
    "### Resources Used\n",
    "[Sum function](https://www.geeksforgeeks.org/sum-function-python/)\n",
    "[Dictionary values](https://www.w3schools.com/python/python_dictionaries_access.asp)"
   ]
  }
 ],
 "metadata": {
  "kernelspec": {
   "display_name": "Python 3",
   "language": "python",
   "name": "python3"
  },
  "language_info": {
   "codemirror_mode": {
    "name": "ipython",
    "version": 3
   },
   "file_extension": ".py",
   "mimetype": "text/x-python",
   "name": "python",
   "nbconvert_exporter": "python",
   "pygments_lexer": "ipython3",
   "version": "3.12.0"
  },
  "orig_nbformat": 4
 },
 "nbformat": 4,
 "nbformat_minor": 2
}
