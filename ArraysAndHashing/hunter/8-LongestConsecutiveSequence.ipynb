{
 "cells": [
  {
   "attachments": {},
   "cell_type": "markdown",
   "metadata": {},
   "source": [
    "### Problem 8: Longest Consecutive Sequence | [link](https://leetcode.com/problems/longest-consecutive-sequence/description/)\n",
    "\n",
    "Given an unsorted array of integers `nums`, return the length of the longest consecutive elements sequence.\n",
    "\n",
    "You must write an algorithm that runs in `O(n)` time.\n",
    "\n",
    "Examples\n",
    "```python\n",
    "Input: nums = [100,4,200,1,3,2]\n",
    "Output: 4\n",
    "Explanation: The longest consecutive elements sequence is [1, 2, 3, 4]. Therefore its length is 4.\n",
    "\n",
    "Input: nums = [0,3,7,2,5,8,4,6,0,1]\n",
    "Output: 9\n",
    "```\n",
    "\n",
    "Constraints:\n",
    "```python\n",
    "0 <= nums.length <= 10^5\n",
    "-10^9 <= nums[i] <= 10^9\n",
    "```"
   ]
  },
  {
   "attachments": {},
   "cell_type": "markdown",
   "metadata": {},
   "source": [
    "### Solution - Not accepted due to O(nlogn) time complexity"
   ]
  },
  {
   "cell_type": "code",
   "execution_count": 39,
   "metadata": {},
   "outputs": [],
   "source": [
    "def longestConsecutive(nums):\n",
    "    # base case\n",
    "    if len(nums) == 0:\n",
    "        return 0\n",
    "    # sort into numerical order\n",
    "    nums.sort()\n",
    "    max_run = 1\n",
    "    current_run = 1\n",
    "    # iterate over sorted nums\n",
    "    for i in range(1, len(nums)):\n",
    "        difference = nums[i] - nums[i-1]\n",
    "        # if consecutive\n",
    "        if difference == 1:\n",
    "            current_run += 1\n",
    "        # if not the same number reset\n",
    "        elif difference != 0:\n",
    "            current_run = 1\n",
    "        # if current run is greater, update\n",
    "        max_run = max(current_run, max_run)\n",
    "    \n",
    "    return max_run"
   ]
  },
  {
   "attachments": {},
   "cell_type": "markdown",
   "metadata": {},
   "source": [
    "### Complexity\n",
    "* Time Complexity is O(nlogn*k); n is length of nums. python sort is O(nlogn), our algorithm is O(n) so constant k accounts for multiple iterations\n",
    "* Space Complexity is "
   ]
  },
  {
   "attachments": {},
   "cell_type": "markdown",
   "metadata": {},
   "source": [
    "### Solution 2"
   ]
  },
  {
   "cell_type": "code",
   "execution_count": 43,
   "metadata": {},
   "outputs": [],
   "source": [
    "def longestConsecutive(nums):\n",
    "    # base case\n",
    "    if len(nums) == 0:\n",
    "        return 0\n",
    "    # turn list into set (remove duplicates + fast existence checks)\n",
    "    s = set(nums)\n",
    "    \n",
    "    # iterate over values\n",
    "    max_run = 1\n",
    "    for elem in s:\n",
    "        # only check if its the FIRST element of the run\n",
    "        if (elem-1) not in s:\n",
    "            curr_run = 1\n",
    "            # while consecutive numbers are in list keep count\n",
    "            while (elem+1) in s:\n",
    "                curr_run += 1\n",
    "                elem += 1\n",
    "            # update max_run\n",
    "            max_run = max(max_run, curr_run)\n",
    "    \n",
    "    return max_run"
   ]
  },
  {
   "attachments": {},
   "cell_type": "markdown",
   "metadata": {},
   "source": [
    "### Testing"
   ]
  },
  {
   "cell_type": "code",
   "execution_count": 44,
   "metadata": {},
   "outputs": [],
   "source": [
    "if __name__ == \"__main__\":\n",
    "    assert longestConsecutive([100,4,200,1,3,2]) == 4\n",
    "    assert longestConsecutive([0,3,7,2,5,8,4,6,0,1]) == 9\n",
    "    assert longestConsecutive([1]) == 1\n",
    "    assert longestConsecutive([]) == 0\n",
    "    assert longestConsecutive([1,2,0,1]) == 3"
   ]
  },
  {
   "attachments": {},
   "cell_type": "markdown",
   "metadata": {},
   "source": [
    "### Complexity\n",
    "* Time Complexity is O(n*k); n is length of nums. using a set allows us to check each element at most twice\n",
    "* Space Complexity is O(n); n is the length of nums in the list. will only be n if all elements are unique, otherwise < n (set removes duplicates)"
   ]
  },
  {
   "attachments": {},
   "cell_type": "markdown",
   "metadata": {},
   "source": [
    "### Resources Used\n",
    "[Example Resource](link-to-webpage)"
   ]
  }
 ],
 "metadata": {
  "kernelspec": {
   "display_name": "Python 3",
   "language": "python",
   "name": "python3"
  },
  "language_info": {
   "codemirror_mode": {
    "name": "ipython",
    "version": 3
   },
   "file_extension": ".py",
   "mimetype": "text/x-python",
   "name": "python",
   "nbconvert_exporter": "python",
   "pygments_lexer": "ipython3",
   "version": "3.12.0"
  },
  "orig_nbformat": 4
 },
 "nbformat": 4,
 "nbformat_minor": 2
}
