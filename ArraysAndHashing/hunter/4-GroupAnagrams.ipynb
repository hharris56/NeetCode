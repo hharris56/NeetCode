{
 "cells": [
  {
   "attachments": {},
   "cell_type": "markdown",
   "metadata": {},
   "source": [
    "### Problem 4: Group Anagrams | [link](https://leetcode.com/problems/group-anagrams/description/)\n",
    "\n",
    "Given an array of strings `strs`, group the anagrams together. You can return the answer in any order.\n",
    "\n",
    "An Anagram is a word or phrase formed by rearranging the letters of a different word or phrase, typically using all the original letters exactly once.\n",
    "\n",
    "Examples\n",
    "```python\n",
    "Input: strs = [\"eat\",\"tea\",\"tan\",\"ate\",\"nat\",\"bat\"]\n",
    "Output: [[\"bat\"],[\"nat\",\"tan\"],[\"ate\",\"eat\",\"tea\"]]\n",
    "\n",
    "Input: strs = [\"\"]\n",
    "Output: [[\"\"]]\n",
    "\n",
    "Input: strs = [\"a\"]\n",
    "Output: [[\"a\"]]\n",
    "```\n",
    "\n",
    "Constraints:\n",
    "```python\n",
    "1 <= strs.length <= 104\n",
    "0 <= strs[i].length <= 100\n",
    "strs[i] consists of lowercase English letters.\n",
    "```"
   ]
  },
  {
   "attachments": {},
   "cell_type": "markdown",
   "metadata": {},
   "source": [
    "### Solution"
   ]
  },
  {
   "cell_type": "code",
   "execution_count": 1,
   "metadata": {},
   "outputs": [],
   "source": [
    "def groupAnagrams(strs):\n",
    "    # solution = []\n",
    "    # for word in strs:\n",
    "    #     dict = {}\n",
    "    #     for char in word:\n",
    "    #         x = dict.get(char, None)\n",
    "    #         dict[char] = 1 if x == None else x + 1\n",
    "    #     solution += dict\n",
    "    \n",
    "    # copy list (keep word index)\n",
    "    # alphabatize each word in list\n",
    "    # find matching indicies\n",
    "    dict = {}\n",
    "    for word in strs:\n",
    "        key = \"\".join(sorted(word))\n",
    "        if dict.get(key):\n",
    "            dict[key] += [word]\n",
    "        else:\n",
    "            dict[key] = [word]\n",
    "    return dict.values()"
   ]
  },
  {
   "attachments": {},
   "cell_type": "markdown",
   "metadata": {},
   "source": [
    "### Complexity\n",
    "\n",
    "Time Complexity will be O(n * k) where n is the number of elements in the list and k is the time it takes to add a k into the dictionary\n",
    "Space Complexity will be O(n * k) where n is the number of elements in the list and k is the space of the longest string"
   ]
  },
  {
   "attachments": {},
   "cell_type": "markdown",
   "metadata": {},
   "source": [
    "### Resources Used\n",
    "[Ternary operator in python](https://www.geeksforgeeks.org/ternary-operator-in-python/)"
   ]
  }
 ],
 "metadata": {
  "kernelspec": {
   "display_name": "Python 3",
   "language": "python",
   "name": "python3"
  },
  "language_info": {
   "codemirror_mode": {
    "name": "ipython",
    "version": 3
   },
   "file_extension": ".py",
   "mimetype": "text/x-python",
   "name": "python",
   "nbconvert_exporter": "python",
   "pygments_lexer": "ipython3",
   "version": "3.12.0"
  },
  "orig_nbformat": 4
 },
 "nbformat": 4,
 "nbformat_minor": 2
}
