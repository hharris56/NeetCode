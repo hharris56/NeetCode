{
 "cells": [
  {
   "attachments": {},
   "cell_type": "markdown",
   "metadata": {},
   "source": [
    "### Problem 1: Best Time to Buy and Sell Stock | [link](https://leetcode.com/problems/best-time-to-buy-and-sell-stock/description/)\n",
    "\n",
    "You are given an array prices where prices[i] is the price of a given stock on the ith day.\n",
    "\n",
    "You want to maximize your profit by choosing a single day to buy one stock and choosing a different day in the future to sell that stock.\n",
    "\n",
    "Return the maximum profit you can achieve from this transaction. If you cannot achieve any profit, return 0.\n",
    "\n",
    "Examples\n",
    "```python\n",
    "Input: prices = [7,1,5,3,6,4]\n",
    "Output: 5\n",
    "\n",
    "Input: prices = [7,6,4,3,1]\n",
    "Output: 0\n",
    "```\n",
    "\n",
    "Constraints:\n",
    "```python\n",
    "# paste here\n",
    "```"
   ]
  },
  {
   "attachments": {},
   "cell_type": "markdown",
   "metadata": {},
   "source": [
    "### Solution"
   ]
  },
  {
   "cell_type": "code",
   "execution_count": 13,
   "metadata": {},
   "outputs": [],
   "source": [
    "def maxProfit(prices):\n",
    "    maxProfit = 0\n",
    "    l, r = 0, 1\n",
    "    while r < len(prices):\n",
    "        if (prices[r] < prices[l]):\n",
    "            l = r\n",
    "        maxProfit = max(maxProfit, prices[r] - prices[l])\n",
    "        r += 1\n",
    "    return maxProfit"
   ]
  },
  {
   "attachments": {},
   "cell_type": "markdown",
   "metadata": {},
   "source": [
    "### Testing"
   ]
  },
  {
   "cell_type": "code",
   "execution_count": 14,
   "metadata": {},
   "outputs": [
    {
     "name": "stdout",
     "output_type": "stream",
     "text": [
      "5\n",
      "0\n"
     ]
    }
   ],
   "source": [
    "if __name__ == \"__main__\":\n",
    "    assert maxProfit([7,1,5,3,6,4]) == 5\n",
    "    assert maxProfit([7,6,4,3,1]) == 0"
   ]
  },
  {
   "attachments": {},
   "cell_type": "markdown",
   "metadata": {},
   "source": [
    "### Complexity\n",
    "* Time Complexity is O(n) because we have to iterate over the entire list once\n",
    "* Space Complexity is O(1) because we don't create any additional arrays, just 2 pointers and a max value"
   ]
  },
  {
   "attachments": {},
   "cell_type": "markdown",
   "metadata": {},
   "source": [
    "### Resources Used\n",
    "[Example Resource](link-to-webpage)"
   ]
  }
 ],
 "metadata": {
  "kernelspec": {
   "display_name": "Python 3",
   "language": "python",
   "name": "python3"
  },
  "language_info": {
   "codemirror_mode": {
    "name": "ipython",
    "version": 3
   },
   "file_extension": ".py",
   "mimetype": "text/x-python",
   "name": "python",
   "nbconvert_exporter": "python",
   "pygments_lexer": "ipython3",
   "version": "3.12.0"
  },
  "orig_nbformat": 4
 },
 "nbformat": 4,
 "nbformat_minor": 2
}
