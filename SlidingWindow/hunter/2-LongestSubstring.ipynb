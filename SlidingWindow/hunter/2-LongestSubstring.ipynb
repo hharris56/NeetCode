{
 "cells": [
  {
   "attachments": {},
   "cell_type": "markdown",
   "metadata": {},
   "source": [
    "### Problem 3: Longest Substring Without Repeating Characters | [link](https://leetcode.com/problems/longest-substring-without-repeating-characters/description/)\n",
    "\n",
    "Given a string s, find the length of the longest \n",
    "substring without repeating characters.\n",
    "\n",
    "Examples\n",
    "```python\n",
    "Input: s = \"abcabcbb\"\n",
    "Output: 3\n",
    "\n",
    "Input: s = \"bbbbb\"\n",
    "Output: 1\n",
    "\n",
    "Input: s = \"pwwkew\"\n",
    "Output: 3\n",
    "```\n",
    "\n",
    "Constraints:\n",
    "```python\n",
    "0 <= s.length <= 5 * 104\n",
    "s consists of English letters, digits, symbols and spaces.\n",
    "```"
   ]
  },
  {
   "attachments": {},
   "cell_type": "markdown",
   "metadata": {},
   "source": [
    "### Solution"
   ]
  },
  {
   "cell_type": "code",
   "execution_count": 33,
   "metadata": {},
   "outputs": [],
   "source": [
    "def lengthOfLongestSubstring(s):\n",
    "    dic = {}\n",
    "    maxLen = 0\n",
    "    l,r = 0,0\n",
    "    while r < len(s):\n",
    "        # duplicate character\n",
    "        # remove all characters between l and first occurance from dict\n",
    "        # move l to first occurance of that character\n",
    "        if dic.get(s[r], None) != None:\n",
    "            d = dic.get(s[r]) + 1\n",
    "            for i in range(l, d):\n",
    "                dic.pop(s[i])\n",
    "            l = d\n",
    "        # add char to dictionary\n",
    "        dic[s[r]] = r\n",
    "        r += 1\n",
    "        maxLen = max(maxLen, r - l)\n",
    "    return maxLen"
   ]
  },
  {
   "attachments": {},
   "cell_type": "markdown",
   "metadata": {},
   "source": [
    "### Testing"
   ]
  },
  {
   "cell_type": "code",
   "execution_count": 34,
   "metadata": {},
   "outputs": [
    {
     "name": "stdout",
     "output_type": "stream",
     "text": [
      "{'a': 0}\n",
      "{'a': 0, 'b': 1}\n",
      "{'a': 0, 'b': 1, 'c': 2}\n",
      "duplicate (a : 3)\n",
      "popping index 0 element a\n",
      "{'b': 1, 'c': 2, 'a': 3}\n",
      "duplicate (b : 4)\n",
      "popping index 1 element b\n",
      "{'c': 2, 'a': 3, 'b': 4}\n",
      "duplicate (c : 5)\n",
      "popping index 2 element c\n",
      "{'a': 3, 'b': 4, 'c': 5}\n",
      "duplicate (b : 6)\n",
      "popping index 3 element a\n",
      "popping index 4 element b\n",
      "{'c': 5, 'b': 6}\n",
      "duplicate (b : 7)\n",
      "popping index 5 element c\n",
      "popping index 6 element b\n",
      "{'b': 7}\n",
      "3\n",
      "{'b': 0}\n",
      "duplicate (b : 1)\n",
      "popping index 0 element b\n",
      "{'b': 1}\n",
      "duplicate (b : 2)\n",
      "popping index 1 element b\n",
      "{'b': 2}\n",
      "duplicate (b : 3)\n",
      "popping index 2 element b\n",
      "{'b': 3}\n",
      "duplicate (b : 4)\n",
      "popping index 3 element b\n",
      "{'b': 4}\n",
      "1\n",
      "{'p': 0}\n",
      "{'p': 0, 'w': 1}\n",
      "duplicate (w : 2)\n",
      "popping index 0 element p\n",
      "popping index 1 element w\n",
      "{'w': 2}\n",
      "{'w': 2, 'k': 3}\n",
      "{'w': 2, 'k': 3, 'e': 4}\n",
      "duplicate (w : 5)\n",
      "popping index 2 element w\n",
      "{'k': 3, 'e': 4, 'w': 5}\n",
      "3\n"
     ]
    }
   ],
   "source": [
    "if __name__ == \"__main__\":\n",
    "    assert lengthOfLongestSubstring(\"abcabcbb\") == 3\n",
    "    assert lengthOfLongestSubstring(\"bbbbb\") == 1\n",
    "    assert lengthOfLongestSubstring(\"pwwkew\") == 3"
   ]
  },
  {
   "attachments": {},
   "cell_type": "markdown",
   "metadata": {},
   "source": [
    "### Complexity\n",
    "* Time Complexity is\n",
    "* Space Complexity is"
   ]
  },
  {
   "attachments": {},
   "cell_type": "markdown",
   "metadata": {},
   "source": [
    "### Resources Used\n",
    "[dictionary remove element](https://www.geeksforgeeks.org/python-ways-to-remove-a-key-from-dictionary/)"
   ]
  }
 ],
 "metadata": {
  "kernelspec": {
   "display_name": "Python 3",
   "language": "python",
   "name": "python3"
  },
  "language_info": {
   "codemirror_mode": {
    "name": "ipython",
    "version": 3
   },
   "file_extension": ".py",
   "mimetype": "text/x-python",
   "name": "python",
   "nbconvert_exporter": "python",
   "pygments_lexer": "ipython3",
   "version": "3.12.0"
  },
  "orig_nbformat": 4
 },
 "nbformat": 4,
 "nbformat_minor": 2
}
