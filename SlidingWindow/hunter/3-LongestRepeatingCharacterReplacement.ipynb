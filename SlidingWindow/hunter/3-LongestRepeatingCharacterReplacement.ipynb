{
 "cells": [
  {
   "attachments": {},
   "cell_type": "markdown",
   "metadata": {},
   "source": [
    "### Problem 3: Longest Repeating Charracter Replacement | [link](https://leetcode.com/problems/longest-repeating-character-replacement/description/)\n",
    "\n",
    "You are given a string s and an integer k. You can choose any character of the string and change it to any other uppercase English character. You can perform this operation at most k times.\n",
    "\n",
    "Return the length of the longest substring containing the same letter you can get after performing the above operations.\n",
    "\n",
    "Examples\n",
    "```python\n",
    "Input: s = \"ABAB\", k = 2\n",
    "Output: 4\n",
    "\n",
    "Input: s = \"AABABBA\", k = 1\n",
    "Output: 4\n",
    "```\n",
    "\n",
    "Constraints:\n",
    "```python\n",
    "1 <= s.length <= 10^5\n",
    "s consists of only uppercase English letters.\n",
    "0 <= k <= s.length\n",
    "```"
   ]
  },
  {
   "attachments": {},
   "cell_type": "markdown",
   "metadata": {},
   "source": [
    "### Solution"
   ]
  },
  {
   "cell_type": "code",
   "execution_count": 36,
   "metadata": {},
   "outputs": [],
   "source": [
    "def characterReplacement(s, k):\n",
    "    res = 0\n",
    "    record = {}\n",
    "    l = 0\n",
    "    for r in range(len(s)):\n",
    "        record[s[r]] = 1 + record.get(s[r], 0)\n",
    "\n",
    "        while (r - l + 1) - max(record.values()) > k:\n",
    "            record[s[l]] -= 1\n",
    "            l += 1\n",
    "\n",
    "        res = max(res, r - l + 1)\n",
    "    return res"
   ]
  },
  {
   "attachments": {},
   "cell_type": "markdown",
   "metadata": {},
   "source": [
    "### Optimized Solution"
   ]
  },
  {
   "cell_type": "code",
   "execution_count": 37,
   "metadata": {},
   "outputs": [],
   "source": [
    "def characterReplacement(s, k):\n",
    "    maxChar, res = 0, 0\n",
    "    record = {}\n",
    "    l = 0\n",
    "    for r in range(len(s)):\n",
    "        record[s[r]] = 1 + record.get(s[r], 0)\n",
    "        maxChar = max(maxChar, record[s[r]])\n",
    "\n",
    "        while (r - l + 1) - maxChar > k:\n",
    "            record[s[l]] -= 1\n",
    "            l += 1\n",
    "\n",
    "        res = max(res, r - l + 1)\n",
    "    return res"
   ]
  },
  {
   "attachments": {},
   "cell_type": "markdown",
   "metadata": {},
   "source": [
    "### Testing"
   ]
  },
  {
   "cell_type": "code",
   "execution_count": 38,
   "metadata": {},
   "outputs": [
    {
     "name": "stdout",
     "output_type": "stream",
     "text": [
      "4\n",
      "4\n",
      "5\n"
     ]
    }
   ],
   "source": [
    "if __name__ == \"__main__\":\n",
    "    assert characterReplacement(\"ABAB\", 2) == 4\n",
    "    assert characterReplacement(\"AABABBA\", 1) == 4\n",
    "    assert characterReplacement(\"ABABBA\", 2) == 5"
   ]
  },
  {
   "attachments": {},
   "cell_type": "markdown",
   "metadata": {},
   "source": [
    "### Complexity\n",
    "* Time Complexity is\n",
    "* Space Complexity is"
   ]
  },
  {
   "attachments": {},
   "cell_type": "markdown",
   "metadata": {},
   "source": [
    "### Resources Used\n",
    "[Example Resource](link-to-webpage)"
   ]
  }
 ],
 "metadata": {
  "kernelspec": {
   "display_name": "Python 3",
   "language": "python",
   "name": "python3"
  },
  "language_info": {
   "codemirror_mode": {
    "name": "ipython",
    "version": 3
   },
   "file_extension": ".py",
   "mimetype": "text/x-python",
   "name": "python",
   "nbconvert_exporter": "python",
   "pygments_lexer": "ipython3",
   "version": "3.12.0"
  },
  "orig_nbformat": 4
 },
 "nbformat": 4,
 "nbformat_minor": 2
}
