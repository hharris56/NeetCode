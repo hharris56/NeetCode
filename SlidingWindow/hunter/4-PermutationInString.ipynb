{
 "cells": [
  {
   "attachments": {},
   "cell_type": "markdown",
   "metadata": {},
   "source": [
    "### Problem #: Permutation In String | [link](https://leetcode.com/problems/permutation-in-string/description/)\n",
    "\n",
    "Given two strings s1 and s2, return true if s2 contains a permutation of s1, or false otherwise.\n",
    "\n",
    "In other words, return true if one of s1's permutations is the substring of s2.\n",
    "\n",
    " \n",
    "\n",
    "Examples\n",
    "```python\n",
    "Input: s1 = \"ab\", s2 = \"eidbaooo\"\n",
    "Output: true\n",
    "\n",
    "Input: s1 = \"ab\", s2 = \"eidboaoo\"\n",
    "Output: false\n",
    "```\n",
    "\n",
    "Constraints:\n",
    "```python\n",
    "1 <= s1.length, s2.length <= 10^4\n",
    "s1 and s2 consist of lowercase English letters.\n",
    "```"
   ]
  },
  {
   "attachments": {},
   "cell_type": "markdown",
   "metadata": {},
   "source": [
    "### Solution 1 (doesn't work)"
   ]
  },
  {
   "cell_type": "code",
   "execution_count": 14,
   "metadata": {},
   "outputs": [],
   "source": [
    "def checkInclusion(s1, s2):\n",
    "    d1 = {}\n",
    "    # build dictionary of s1\n",
    "    for c in s1:\n",
    "        d1[c] = 1 + d1.get(c, 0)\n",
    "\n",
    "    # iterate over s2, remove characters from dict as they are used\n",
    "    for l in range(len(s2)):\n",
    "        d2 = d1\n",
    "        r = l\n",
    "        while (d2.get(s2[r], 0) > 0) and (r < len(s2)):\n",
    "            d2[s2[r]] -= 1\n",
    "            if (r - l + 1) == len(s1):\n",
    "                return True\n",
    "            r += 1\n",
    "    return False\n"
   ]
  },
  {
   "attachments": {},
   "cell_type": "markdown",
   "metadata": {},
   "source": [
    "### Solution 2 (using 2 dictionaries)"
   ]
  },
  {
   "cell_type": "code",
   "execution_count": 15,
   "metadata": {},
   "outputs": [],
   "source": [
    "from collections import Counter\n",
    "\n",
    "def checkInclusion(s1, s2):\n",
    "    d1 = Counter(s1)\n",
    "    d2 = {}\n",
    "\n",
    "    l, r = 0, 0\n",
    "    while (r < len(s2)):\n",
    "        # add right character\n",
    "        d2[s2[r]] = 1 + d2.get(s2[r], 0)\n",
    "        # check if the window is correct length\n",
    "        if (r - l + 1) == len(s1):\n",
    "            # compare the dictionaries\n",
    "            if (d1 == d2): return True\n",
    "            # remove left index, pop if count is zero\n",
    "            d2[s2[l]] -= 1\n",
    "            if (d2[s2[l]] == 0): d2.pop(s2[l])\n",
    "            # increment\n",
    "            l += 1\n",
    "        r += 1\n",
    "    return False\n"
   ]
  },
  {
   "attachments": {},
   "cell_type": "markdown",
   "metadata": {},
   "source": [
    "### Testing"
   ]
  },
  {
   "cell_type": "code",
   "execution_count": 16,
   "metadata": {},
   "outputs": [],
   "source": [
    "if __name__ == \"__main__\":\n",
    "    assert checkInclusion(\"ab\", \"eidbaooo\") == True\n",
    "    assert checkInclusion(\"ab\", \"eidboaoo\") == False"
   ]
  },
  {
   "attachments": {},
   "cell_type": "markdown",
   "metadata": {},
   "source": [
    "### Complexity\n",
    "* Time Complexity is\n",
    "* Space Complexity is"
   ]
  },
  {
   "attachments": {},
   "cell_type": "markdown",
   "metadata": {},
   "source": [
    "### Resources Used\n",
    "[Example Resource](link-to-webpage)"
   ]
  }
 ],
 "metadata": {
  "kernelspec": {
   "display_name": "Python 3",
   "language": "python",
   "name": "python3"
  },
  "language_info": {
   "codemirror_mode": {
    "name": "ipython",
    "version": 3
   },
   "file_extension": ".py",
   "mimetype": "text/x-python",
   "name": "python",
   "nbconvert_exporter": "python",
   "pygments_lexer": "ipython3",
   "version": "3.12.0"
  },
  "orig_nbformat": 4
 },
 "nbformat": 4,
 "nbformat_minor": 2
}
