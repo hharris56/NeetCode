{
 "cells": [
  {
   "attachments": {},
   "cell_type": "markdown",
   "metadata": {},
   "source": [
    "### Problem 1: Valid Palindrome | [link](https://leetcode.com/problems/valid-palindrome/)\n",
    "\n",
    "A phrase is a *palindrome* if, after converting all uppercase letters into lowercase letters and removing all non-alphanumeric characters, it reads the same forward and backward. Alphanumeric characters include letters and numbers.\n",
    "\n",
    "Given a string `s`, return `true` if it is a palindrome, or `false` otherwise.\n",
    "\n",
    "Examples\n",
    "```python\n",
    "Input: s = \"A man, a plan, a canal: Panama\"\n",
    "Output: true\n",
    "\n",
    "Input: s = \"race a car\"\n",
    "Output: false\n",
    "```\n",
    "\n",
    "Constraints:\n",
    "```python\n",
    "1 <= s.length <= 2 * 105\n",
    "s consists only of printable ASCII characters.\n",
    "```"
   ]
  },
  {
   "attachments": {},
   "cell_type": "markdown",
   "metadata": {},
   "source": [
    "### Solution"
   ]
  },
  {
   "cell_type": "code",
   "execution_count": 19,
   "metadata": {},
   "outputs": [],
   "source": [
    "def isPalindrome(s):\n",
    "    # format string (to lower, filter all non-alphanumeric, join back into string)\n",
    "    fs = \"\".join(list(filter(lambda char: char.isalnum(), s.lower())))\n",
    "    # iterate from front and back of string\n",
    "    a = 0\n",
    "    b = len(fs) - 1\n",
    "    while (a < b):\n",
    "        if fs[a] != fs[b]:\n",
    "            return False\n",
    "        a += 1\n",
    "        b -= 1\n",
    "    return True"
   ]
  },
  {
   "attachments": {},
   "cell_type": "markdown",
   "metadata": {},
   "source": [
    "### Testing"
   ]
  },
  {
   "cell_type": "code",
   "execution_count": 20,
   "metadata": {},
   "outputs": [],
   "source": [
    "if __name__ == \"__main__\":\n",
    "    assert isPalindrome(\"A man, a plan, a canal: Panama\") == True\n",
    "    assert isPalindrome(\"race a car\") == False\n",
    "    assert isPalindrome(\" \") == True\n",
    "    "
   ]
  },
  {
   "attachments": {},
   "cell_type": "markdown",
   "metadata": {},
   "source": [
    "### Complexity\n",
    "* Time Complexity is O(nk) bc you will at most iterate over half the string during checking, but need to iterate over it first for formatting it. k accounts for the time required to perform formatting + checking\n",
    "* Space Complexity is 0(nk) bc you will need another intance of the string (maximum length n) which will be the formatted string we operate on"
   ]
  },
  {
   "attachments": {},
   "cell_type": "markdown",
   "metadata": {},
   "source": [
    "### Resources Used\n",
    "[python filter](https://www.geeksforgeeks.org/filter-in-python/)\n",
    "\n",
    "[python lambda](https://www.w3schools.com/python/python_lambda.asp)\n",
    "\n",
    "[ascii table](https://www.ascii-code.com/)\n",
    "\n",
    "[check alphanumeric](https://www.w3schools.com/python/ref_string_isalnum.asp#:~:text=The%20isalnum()%20method%20returns,!%23%25%26%3F%20etc.)"
   ]
  }
 ],
 "metadata": {
  "kernelspec": {
   "display_name": "Python 3",
   "language": "python",
   "name": "python3"
  },
  "language_info": {
   "codemirror_mode": {
    "name": "ipython",
    "version": 3
   },
   "file_extension": ".py",
   "mimetype": "text/x-python",
   "name": "python",
   "nbconvert_exporter": "python",
   "pygments_lexer": "ipython3",
   "version": "3.12.0"
  },
  "orig_nbformat": 4
 },
 "nbformat": 4,
 "nbformat_minor": 2
}
