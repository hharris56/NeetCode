{
 "cells": [
  {
   "attachments": {},
   "cell_type": "markdown",
   "metadata": {},
   "source": [
    "### Problem 5: Trapping Rain Water | [link](https://leetcode.com/problems/trapping-rain-water/description/)\n",
    "\n",
    "Given n non-negative integers representing an elevation map where the width of each bar is 1, compute how much water it can trap after raining.\n",
    "\n",
    "Examples\n",
    "```python\n",
    "Input: height = [0,1,0,2,1,0,1,3,2,1,2,1]\n",
    "Output: 6\n",
    "\n",
    "Input: height = [4,2,0,3,2,5]\n",
    "Output: 9\n",
    "```\n",
    "\n",
    "Constraints:\n",
    "```python\n",
    "n == height.length\n",
    "1 <= n <= 2 * 10^4\n",
    "0 <= height[i] <= 10^5\n",
    "```"
   ]
  },
  {
   "attachments": {},
   "cell_type": "markdown",
   "metadata": {},
   "source": [
    "### Solution"
   ]
  },
  {
   "cell_type": "code",
   "execution_count": 71,
   "metadata": {},
   "outputs": [],
   "source": [
    "def trap(height):\n",
    "    length = len(height)\n",
    "    maxL = [0] * length\n",
    "    maxR = [0] * length\n",
    "    minLR = [0] * length\n",
    "    for i in range(1, length):\n",
    "        maxL[i] = max(maxL[i-1], height[i-1])\n",
    "    for j in range(length-2, -1, -1):\n",
    "        maxR[j] = max(maxR[j+1], height[j+1])\n",
    "    for k in range(length):\n",
    "        minLR[k] = min(maxL[k], maxR[k])\n",
    "    # print(height)\n",
    "    # print(maxL)\n",
    "    # print(maxR)\n",
    "    # print(minLR)\n",
    "    total = 0\n",
    "    for l in range(length):\n",
    "        amount = minLR[l] - height[l]\n",
    "        if amount > 0:\n",
    "            total += amount\n",
    "    return total\n"
   ]
  },
  {
   "attachments": {},
   "cell_type": "markdown",
   "metadata": {},
   "source": [
    "### Solution 2: Two Pointer Method"
   ]
  },
  {
   "cell_type": "code",
   "execution_count": 72,
   "metadata": {},
   "outputs": [],
   "source": [
    "def trap(height):\n",
    "    # initialize values\n",
    "    l, r = 0, len(height)-1\n",
    "    maxL, maxR = height[l], height[r]\n",
    "    total = 0\n",
    "    # update pointers\n",
    "    while l < r:\n",
    "        # if maxes are equal we'll increment left hence <=\n",
    "        # while maxL <= maxR and l < r:\n",
    "        #     amount = min(maxL, maxR) - height[l]\n",
    "        #     if amount > 0: total += amount\n",
    "        #     maxL = max(height[l], maxL)\n",
    "        #     l += 1\n",
    "        # while maxR < maxL and l < r:\n",
    "        #     amount = min(maxL, maxR) - height[r]\n",
    "        #     if amount > 0: total += amount\n",
    "        #     maxR = max(height[r], maxR)\n",
    "        #     r -= 1\n",
    "        if (maxL < maxR):\n",
    "            l += 1\n",
    "            maxL = max(maxL, height[l])\n",
    "            total += maxL - height[l]\n",
    "        else:\n",
    "            r -= 1\n",
    "            maxR = max(maxR, height[r])\n",
    "            total += maxR - height[r]\n",
    "    print(total)\n",
    "    return total"
   ]
  },
  {
   "attachments": {},
   "cell_type": "markdown",
   "metadata": {},
   "source": [
    "### Testing"
   ]
  },
  {
   "cell_type": "code",
   "execution_count": 73,
   "metadata": {},
   "outputs": [
    {
     "name": "stdout",
     "output_type": "stream",
     "text": [
      "23\n"
     ]
    }
   ],
   "source": [
    "if __name__ == \"__main__\":\n",
    "    assert trap([0,1,0,2,1,0,1,3,2,1,2,1]) == 6\n",
    "    assert trap([4,2,0,3,2,5]) == 9\n",
    "    assert trap([5,5,1,7,1,1,5,2,7,6]) == 23"
   ]
  },
  {
   "attachments": {},
   "cell_type": "markdown",
   "metadata": {},
   "source": [
    "### Complexity\n",
    "* Time Complexity is O(nk) bc the algorithm will have to iterate over every index in the array\n",
    "* Space Complexity is O(1) bc the algorithm does not use any extra data structures to compute the solution"
   ]
  },
  {
   "attachments": {},
   "cell_type": "markdown",
   "metadata": {},
   "source": [
    "### Resources Used\n",
    "[neetcode walkthru](https://www.youtube.com/watch?v=ZI2z5pq0TqA)"
   ]
  }
 ],
 "metadata": {
  "kernelspec": {
   "display_name": "Python 3",
   "language": "python",
   "name": "python3"
  },
  "language_info": {
   "codemirror_mode": {
    "name": "ipython",
    "version": 3
   },
   "file_extension": ".py",
   "mimetype": "text/x-python",
   "name": "python",
   "nbconvert_exporter": "python",
   "pygments_lexer": "ipython3",
   "version": "3.12.0"
  },
  "orig_nbformat": 4
 },
 "nbformat": 4,
 "nbformat_minor": 2
}
