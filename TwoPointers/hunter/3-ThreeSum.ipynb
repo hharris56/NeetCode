{
 "cells": [
  {
   "attachments": {},
   "cell_type": "markdown",
   "metadata": {},
   "source": [
    "### Problem 3: ThreeSum | [link](https://leetcode.com/problems/3sum/description/)\n",
    "\n",
    "Given an integer array nums, return all the triplets [nums[i], nums[j], nums[k]] such that i != j, i != k, and j != k, and nums[i] + nums[j] + nums[k] == 0.\n",
    "\n",
    "Notice that the solution set must not contain duplicate triplets.\n",
    "\n",
    "Examples\n",
    "```python\n",
    "Input: nums = [-1,0,1,2,-1,-4]\n",
    "Output: [[-1,-1,2],[-1,0,1]]\n",
    "\n",
    "Input: nums = [0,1,1]\n",
    "Output: []\n",
    "\n",
    "Input: nums = [0,0,0]\n",
    "Output: [[0,0,0]]\n",
    "```\n",
    "\n",
    "Constraints:\n",
    "```python\n",
    "3 <= nums.length <= 3000\n",
    "\n",
    "-10^5 <= nums[i] <= 10^5\n",
    "```"
   ]
  },
  {
   "attachments": {},
   "cell_type": "markdown",
   "metadata": {},
   "source": [
    "### Solution"
   ]
  },
  {
   "cell_type": "code",
   "execution_count": 61,
   "metadata": {},
   "outputs": [],
   "source": [
    "def threeSum(nums):\n",
    "    nums.sort()\n",
    "    result = []\n",
    "    used = {}\n",
    "    # do 2sum on every less than 0 (cant add to zero with only positives)\n",
    "    i = 0\n",
    "    while (nums[i] <= 0) and (i < len(nums)-2): # leave 2 spaces for l & r\n",
    "        t = nums[i]\n",
    "        if used.get(t, None) == None:\n",
    "            # 2 sum\n",
    "            l = i + 1\n",
    "            r = len(nums)-1\n",
    "            while l < r:\n",
    "                threeSum = t + nums[l] + nums[r]\n",
    "                if threeSum < 0: l += 1\n",
    "                elif threeSum > 0: r -= 1\n",
    "                else:   # match found\n",
    "                    result.append([t, nums[l], nums[r]])\n",
    "                    l += 1  # update l pointer until a new num is found\n",
    "                    while (nums[l] == nums[l-1]) and l < r:\n",
    "                        l += 1\n",
    "        used[t] = True\n",
    "        i += 1\n",
    "    return result\n",
    "    "
   ]
  },
  {
   "attachments": {},
   "cell_type": "markdown",
   "metadata": {},
   "source": [
    "### Testing"
   ]
  },
  {
   "cell_type": "code",
   "execution_count": 62,
   "metadata": {},
   "outputs": [
    {
     "name": "stdout",
     "output_type": "stream",
     "text": [
      "[[-1, -1, 2], [-1, 0, 1]]\n",
      "[]\n",
      "[[0, 0, 0]]\n",
      "[[0, 0, 0]]\n"
     ]
    }
   ],
   "source": [
    "if __name__ == \"__main__\":\n",
    "    assert threeSum([-1,0,1,2,-1,-4]) == [[-1,-1,2],[-1,0,1]]\n",
    "    assert threeSum([0,1,1]) == []\n",
    "    assert threeSum([0,0,0]) == [[0,0,0]]\n",
    "    assert threeSum([0,0,0,0]) == [[0,0,0]]"
   ]
  },
  {
   "attachments": {},
   "cell_type": "markdown",
   "metadata": {},
   "source": [
    "### Complexity\n",
    "* Time Complexity is O(kn^2) because for each element in the list the algorithm must compute a 2 sum from the remaining values which is a maximum of n\n",
    "* Space Complexity is is O(nk) because the maximum number of unique combinations is n / 3"
   ]
  },
  {
   "attachments": {},
   "cell_type": "markdown",
   "metadata": {},
   "source": [
    "### Resources Used\n",
    "[tutorial vid](https://www.youtube.com/watch?v=jzZsG8n2R9A)\n",
    "\n",
    "### Notes\n",
    "The video above does a great job breaking the problem down, and using his problem description I was able to develop my own solution w/out seeing his first... everything except the condition around updating the l / r pointer until there is a new value. That part I needed to see how his solution"
   ]
  }
 ],
 "metadata": {
  "kernelspec": {
   "display_name": "Python 3",
   "language": "python",
   "name": "python3"
  },
  "language_info": {
   "codemirror_mode": {
    "name": "ipython",
    "version": 3
   },
   "file_extension": ".py",
   "mimetype": "text/x-python",
   "name": "python",
   "nbconvert_exporter": "python",
   "pygments_lexer": "ipython3",
   "version": "3.12.0"
  },
  "orig_nbformat": 4
 },
 "nbformat": 4,
 "nbformat_minor": 2
}
